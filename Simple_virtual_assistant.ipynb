{
 "cells": [
  {
   "cell_type": "code",
   "execution_count": 193,
   "metadata": {},
   "outputs": [
    {
     "name": "stdout",
     "output_type": "stream",
     "text": [
      "Enter what you want to know: Uk king\n",
      "Queen Elizabeth II (from 6 February 1952 to present)\n"
     ]
    }
   ],
   "source": [
    "#pip install wolframalpha\n",
    "#create aip id\n",
    "\n",
    "import wolframalpha\n",
    "app_id = '2U3KP6-TKW5AE4WLY'  # get your own at https://products.wolframalpha.com/api/\n",
    "\n",
    "# assigning to the api_id to our code\n",
    "client = wolframalpha.Client(app_id)\n",
    "\n",
    "# taking the input from the user\n",
    "res = client.query(input(\"Enter what you want to know: \") )\n",
    "\n",
    "# Saving and cleaning HTML output to required text\n",
    "final = next(res.results).text\n",
    "print(final)\n",
    "\n",
    "\n",
    "# Converting the output text into speech\n",
    "import pyttsx3\n",
    "\n",
    "# Turning-onn Our Assistant Automatically using init() \n",
    "engine = pyttsx3.init()\n",
    "\n",
    "#Converting OutPut into Text\n",
    "\n",
    "engine.say('sir,')\n",
    "engine.say( final)\n",
    "\n",
    "# Playing the speech\n",
    "engine.runAndWait()\n"
   ]
  },
  {
   "cell_type": "code",
   "execution_count": null,
   "metadata": {},
   "outputs": [],
   "source": []
  }
 ],
 "metadata": {
  "kernelspec": {
   "display_name": "Python 3",
   "language": "python",
   "name": "python3"
  },
  "language_info": {
   "codemirror_mode": {
    "name": "ipython",
    "version": 3
   },
   "file_extension": ".py",
   "mimetype": "text/x-python",
   "name": "python",
   "nbconvert_exporter": "python",
   "pygments_lexer": "ipython3",
   "version": "3.8.5"
  }
 },
 "nbformat": 4,
 "nbformat_minor": 4
}
